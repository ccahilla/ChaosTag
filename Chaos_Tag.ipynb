{
 "cells": [
  {
   "cell_type": "code",
   "execution_count": 3,
   "metadata": {},
   "outputs": [],
   "source": [
    "import numpy as np\n",
    "import matplotlib as mpl\n",
    "mpl.use('Agg')\n",
    "mpl.rcParams.update({'text.usetex': True,\n",
    "                     'lines.linewidth': 4,\n",
    "                     'font.size': 30,\n",
    "                     'font.family': 'FreeSerif',\n",
    "                     'figure.figsize': (16, 12),\n",
    "                     'xtick.labelsize': 24, \n",
    "                     'ytick.labelsize': 24,\n",
    "                     'legend.fontsize': 24,\n",
    "                     'axes.labelsize': 24,\n",
    "                     'axes.titlesize':30,\n",
    "                     'axes.grid': True,\n",
    "                     'grid.color': '#555555',\n",
    "                     'lines.markersize': 12})\n",
    "import matplotlib.pyplot as plt\n",
    "mpl.style.use(\"dark_background\")\n",
    "import time\n",
    "import copy\n",
    "\n",
    "%matplotlib inline"
   ]
  },
  {
   "cell_type": "markdown",
   "metadata": {},
   "source": [
    "# Chaos Tag Rules\n",
    "\n",
    "1) Any group of two or more people can play. All players are active at the start of the game.\n",
    "\n",
    "2) Active players can run around and tag other active players.\n",
    "\n",
    "3) A player who is tagged becomes inactive and must sit on the spot where they were tagged.\n",
    "\n",
    "4) An inactive player becomes active again when the player who tagged them is tagged.\n",
    "\n",
    "5) Victory is achieved by being the only remaining active player.\n",
    "\n",
    "Suppose $N$ of you are at the park that day. If all active players are equally likely to tag someone and any of the possible targets are equally likely to be tagged, how long will the game last on average, as measured in tags? (For example, with two players, the game always ends in one tag; with three players, the expected length of the game is three tags.)"
   ]
  },
  {
   "cell_type": "code",
   "execution_count": 28,
   "metadata": {
    "collapsed": true
   },
   "outputs": [],
   "source": [
    "N = 10  # Number of players in chaos tag\n",
    "episodeNumber = 16000 # Number of simulations to run\n",
    "plotEpisode = True\n",
    "totalTags = np.zeros(episodeNumber, dtype=int)"
   ]
  },
  {
   "cell_type": "code",
   "execution_count": 29,
   "metadata": {},
   "outputs": [
    {
     "name": "stdout",
     "output_type": "stream",
     "text": [
      "0  Game Over -- Total tags = 289\n",
      "500  Game Over -- Total tags = 262\n",
      "1000  Game Over -- Total tags = 392\n",
      "1500  Game Over -- Total tags = 263\n",
      "2000  Game Over -- Total tags = 944\n",
      "2500  Game Over -- Total tags = 331\n",
      "3000  Game Over -- Total tags = 23\n",
      "3500  Game Over -- Total tags = 666\n",
      "4000  Game Over -- Total tags = 392\n",
      "4500  Game Over -- Total tags = 1083\n",
      "5000  Game Over -- Total tags = 130\n",
      "5500  Game Over -- Total tags = 28\n",
      "6000  Game Over -- Total tags = 1092\n",
      "6500  Game Over -- Total tags = 1647\n",
      "7000  Game Over -- Total tags = 374\n",
      "7500  Game Over -- Total tags = 1280\n",
      "8000  Game Over -- Total tags = 176\n",
      "8500  Game Over -- Total tags = 63\n",
      "9000  Game Over -- Total tags = 1702\n",
      "9500  Game Over -- Total tags = 442\n",
      "10000  Game Over -- Total tags = 1025\n",
      "10500  Game Over -- Total tags = 510\n",
      "11000  Game Over -- Total tags = 454\n",
      "11500  Game Over -- Total tags = 21\n",
      "12000  Game Over -- Total tags = 65\n",
      "12500  Game Over -- Total tags = 53\n",
      "13000  Game Over -- Total tags = 342\n",
      "13500  Game Over -- Total tags = 175\n",
      "14000  Game Over -- Total tags = 414\n",
      "14500  Game Over -- Total tags = 1019\n",
      "15000  Game Over -- Total tags = 222\n",
      "15500  Game Over -- Total tags = 548\n",
      "#####################\n",
      "Expected Tags = 515.08575 Standard Deviation = 503.359887501\n",
      "for N = 10 players and 16000 episodes\n",
      "Time = 1014.74584317 seconds\n"
     ]
    }
   ],
   "source": [
    "startTime = time.time()\n",
    "# Play Chaos Tag\n",
    "for ii in np.arange(episodeNumber, dtype=int):\n",
    "    tagTracker = 0\n",
    "    maxTagged = 0\n",
    "    \n",
    "    playerDict = {key: np.array([], dtype=int) for key in np.arange(N, dtype=int)}\n",
    "    activePlayers = np.arange(N, dtype=int)\n",
    "    inactivePlayers = np.array([], dtype=int)\n",
    "    \n",
    "    while maxTagged < N - 1: # While at least two players still exist\n",
    "        taggedPlayer = np.random.choice(activePlayers)  # Randomly select an active player to be tagged\n",
    "        activePlayers   = np.delete(activePlayers, np.argwhere(activePlayers==taggedPlayer))\n",
    "        inactivePlayers = np.append(inactivePlayers, taggedPlayer)\n",
    "        \n",
    "        taggingPlayer = np.random.choice(activePlayers) # Randomly select an active player to be the tagger\n",
    "        \n",
    "        \n",
    "        playerDict[taggingPlayer] = np.append(playerDict[taggingPlayer], taggedPlayer) # Add the tagged player to the tagging player's tree\n",
    "        \n",
    "        for player in playerDict[taggedPlayer]:  # For each player in the tagged player's tree\n",
    "            activePlayers   = np.append(activePlayers, player)         # Free them\n",
    "            inactivePlayers = np.delete(inactivePlayers, np.argwhere(inactivePlayers==player) )\n",
    "        playerDict[taggedPlayer] = np.array([], dtype=int) # Empty the tree\n",
    "        \n",
    "        tagTracker += 1\n",
    "        \n",
    "        for key in playerDict.keys():\n",
    "            if len(playerDict[key]) > maxTagged:\n",
    "                maxTagged = np.copy( len(playerDict[key]) )\n",
    "        \n",
    "#         if plotEpisode:\n",
    "#         print 'Tagged Player:', taggedPlayer, ' Tagging Player:', taggingPlayer\n",
    "#         print '# of Tags:', tagTracker \n",
    "#         print 'Active Players:', activePlayers\n",
    "#         print 'Inactive Players:', inactivePlayers\n",
    "#         print 'Player Dict:', playerDict\n",
    "#         print\n",
    "    totalTags[ii] = np.copy(tagTracker)\n",
    "    if ii % 500 == 0:\n",
    "        print ii, ' Game Over -- Total tags =', totalTags[ii]\n",
    "    \n",
    "expectedTags = np.sum(totalTags)/float(episodeNumber)\n",
    "stdDevTags = np.sqrt( np.sum((totalTags - expectedTags)**2)/float(episodeNumber - 1) )\n",
    "print '#####################'\n",
    "print 'Expected Tags =', expectedTags, 'Standard Deviation =', stdDevTags\n",
    "print 'for N =', N, 'players and', episodeNumber, 'episodes'\n",
    "print 'Time =', time.time() - startTime, 'seconds'"
   ]
  },
  {
   "cell_type": "code",
   "execution_count": 30,
   "metadata": {},
   "outputs": [
    {
     "data": {
      "image/png": "[encoded data removed]",
      "text/plain": [
       "<matplotlib.figure.Figure at 0x1123f7110>"
      ]
     },
     "metadata": {},
     "output_type": "display_data"
    }
   ],
   "source": [
    "fig = plt.figure(figsize=(16,12))\n",
    "n, bins, patches = plt.hist(totalTags, bins=(max(totalTags)-min(totalTags)), label=r'Episodes per Tag Count')\n",
    "plt.axvline( expectedTags, color=[0.8, 0.2, 0.2], label=r'Expected Number of Tags = '+str(int(np.round(expectedTags))) )\n",
    "plt.xlabel(r'Tags')\n",
    "plt.ylabel(r'Episodes')\n",
    "plt.title(r'Distribution of Tags for '+ str(N)+ ' Players and '+ str(episodeNumber)+ ' Episodes')\n",
    "plt.legend()\n",
    "plt.savefig('ChaosTagDistribution_'+str(N)+'Players_'+str(episodeNumber)+'Episodes.pdf')\n",
    "plt.show()"
   ]
  },
  {
   "cell_type": "code",
   "execution_count": null,
   "metadata": {
    "collapsed": true
   },
   "outputs": [],
   "source": []
  },
  {
   "cell_type": "code",
   "execution_count": null,
   "metadata": {
    "collapsed": true
   },
   "outputs": [],
   "source": []
  }
 ],
 "metadata": {
  "kernelspec": {
   "display_name": "Python 2",
   "language": "python",
   "name": "python2"
  },
  "language_info": {
   "codemirror_mode": {
    "name": "ipython",
    "version": 2
   },
   "file_extension": ".py",
   "mimetype": "text/x-python",
   "name": "python",
   "nbconvert_exporter": "python",
   "pygments_lexer": "ipython2",
   "version": "2.7.10"
  }
 },
 "nbformat": 4,
 "nbformat_minor": 2
}
